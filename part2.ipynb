{
  "nbformat": 4,
  "nbformat_minor": 0,
  "metadata": {
    "colab": {
      "provenance": [],
      "authorship_tag": "ABX9TyO8cC1F5xegSlWZ31FPs8UZ",
      "include_colab_link": true
    },
    "kernelspec": {
      "name": "python3",
      "display_name": "Python 3"
    },
    "language_info": {
      "name": "python"
    }
  },
  "cells": [
    {
      "cell_type": "markdown",
      "metadata": {
        "id": "view-in-github",
        "colab_type": "text"
      },
      "source": [
        "<a href=\"https://colab.research.google.com/github/AhmedToto23/timetable-as-CSP/blob/main/part2.ipynb\" target=\"_parent\"><img src=\"https://colab.research.google.com/assets/colab-badge.svg\" alt=\"Open In Colab\"/></a>"
      ]
    },
    {
      "cell_type": "code",
      "execution_count": 7,
      "metadata": {
        "id": "UqEYlalY3PR-"
      },
      "outputs": [],
      "source": [
        "#Import libraries\n",
        "import pandas as pd\n",
        "from collections import defaultdict\n",
        "from openpyxl import Workbook\n",
        "from openpyxl.utils import get_column_letter\n",
        "from openpyxl.styles import Font, Alignment, PatternFill\n",
        "import re"
      ]
    },
    {
      "cell_type": "code",
      "source": [
        "#Load Inputs\n",
        "def load_inputs():\n",
        "    timetable = pd.read_csv(\"/content/sample_data/final_timetable.csv\")\n",
        "    courses = pd.read_csv(\"/content/sample_data/Courses.csv\")\n",
        "     # Clean whitespace in object columns\n",
        "    for col in courses.select_dtypes(\"object\"):\n",
        "        courses[col] = courses[col].str.strip()\n",
        "\n",
        "    # Sections definition for CSIT department\n",
        "    sections_map = {\n",
        "        \"CSIT\": {\n",
        "            \"1\": [{\"name\": f\"s{i}\", \"count\": 25} for i in range(1, 10)],\n",
        "            \"2\": [{\"name\": f\"s{i}\", \"count\": 25} for i in range(1, 10)],\n",
        "            \"3\": {\n",
        "                \"AID\": [{\"name\": \"s1\", \"count\": 25}, {\"name\": \"s2\", \"count\": 25}, {\"name\": \"s3\", \"count\": 25}],\n",
        "                \"CNC\": [{\"name\": \"s1\", \"count\": 25}, {\"name\": \"s2\", \"count\": 25}, {\"name\": \"s3\", \"count\": 25}],\n",
        "                \"CSC\": [{\"name\": \"s1\", \"count\": 25}, {\"name\": \"s2\", \"count\": 25}],\n",
        "                \"BIF\": [{\"name\": \"s1\", \"count\": 25}]\n",
        "            },\n",
        "            \"4\": {\n",
        "                \"AID\": [{\"name\": \"s1\", \"count\": 25}, {\"name\": \"s2\", \"count\": 25}, {\"name\": \"s3\", \"count\": 25}],\n",
        "                \"CNC\": [{\"name\": \"s1\", \"count\": 25}, {\"name\": \"s2\", \"count\": 25}, {\"name\": \"s3\", \"count\": 25}],\n",
        "                \"CSC\": [{\"name\": \"s1\", \"count\": 25}, {\"name\": \"s2\", \"count\": 25}],\n",
        "                \"BIF\": [{\"name\": \"s1\", \"count\": 25}]\n",
        "            }\n",
        "        }\n",
        "    }\n",
        "    return timetable, courses, sections_map"
      ],
      "metadata": {
        "id": "iIGDBGYZ3TTF"
      },
      "execution_count": 8,
      "outputs": []
    },
    {
      "cell_type": "code",
      "source": [
        "def get_colors():\n",
        "    return [\n",
        "        \"FF6F61\",  # Coral\n",
        "        \"6B5B95\",  # Indigo\n",
        "        \"88B04B\",  # Green\n",
        "        \"F7CAC9\",  # Pink\n",
        "        \"92A8D1\",  # Light Blue\n",
        "        \"955251\",  # Mauve\n",
        "        \"B565A7\",  # Orchid\n",
        "        \"009B77\",  # Teal\n",
        "        \"DD4124\",  # Red-Orange\n",
        "        \"45B8AC\",  # Aqua\n",
        "        \"EFC050\",  # Gold\n",
        "        \"5B5EA6\",  # Royal Blue\n",
        "        \"9B2335\",  # Crimson\n",
        "        \"DFCFBE\",  # Beige\n",
        "        \"55B4B0\",  # Mint\n",
        "        \"E15D44\",  # Rust\n",
        "        \"7FCDCD\",  # Light Teal\n",
        "        \"BC243C\",  # Ruby\n",
        "        \"C3447A\",  # Rose\n",
        "        \"98B4D4\"   # Sky Blue\n",
        "    ]"
      ],
      "metadata": {
        "id": "KaDXZjXl3YlT"
      },
      "execution_count": 9,
      "outputs": []
    },
    {
      "cell_type": "code",
      "source": [
        "def get_time_structure():\n",
        "    slots = ['9:00 AM', '10:45 AM', '12:30 PM', '2:15 PM']\n",
        "    slot_ranges = ['9:00–10:30 AM', '10:45–12:15 PM', '12:30–2:00 PM', '2:15–3:45 PM']\n",
        "    days = ['Sunday', 'Monday', 'Tuesday', 'Wednesday', 'Thursday']\n",
        "    return days, slots, slot_ranges"
      ],
      "metadata": {
        "id": "qyi_vvSB3ooE"
      },
      "execution_count": 10,
      "outputs": []
    },
    {
      "cell_type": "code",
      "source": [
        "#Excel Export Function\n",
        "def export_excel(data, level, spec, section_def, all_sections, courses):\n",
        "    level_num = level.split(\"-\")[0] if \"-\" in level else level\n",
        "    title = f\"CSIT Level {level_num}\" + (f\"-{spec}\" if spec else \"\")\n",
        "    combined = spec is None and level_num in [\"3\", \"4\"]\n",
        "\n",
        "    # Sections list\n",
        "    if combined:\n",
        "        sec_groups = all_sections[\"CSIT\"][level_num]\n",
        "        full_list = [f\"CSIT-{level_num}-{k}-s{i+1}\" for k, v in sec_groups.items() for i in range(len(v))]\n",
        "        header_map = {k: len(v) for k, v in sec_groups.items()}\n",
        "    else:\n",
        "        full_list = [f\"CSIT-{level_num}-{spec}-s{i+1}\" if spec else f\"CSIT-{level_num}-s{i+1}\" for i in range(len(section_def))]\n",
        "        header_map = {spec or 'Core': len(section_def)}\n",
        "\n",
        "    # Filter rows\n",
        "    pattern = \"|\".join(full_list)\n",
        "    df = data[data[\"Sections\"].str.contains(pattern, na=False)]\n",
        "\n",
        "    course_names = dict(zip(courses[\"CourseID\"], courses[\"CourseName\"]))\n",
        "    color_palette = get_colors()\n",
        "    color_map = {cid: color_palette[i % len(color_palette)] for i, cid in enumerate(df[\"CourseID\"].unique())}\n",
        "\n",
        "    days, slots, ranges = get_time_structure()\n",
        "    slot_index = {s: i for i, s in enumerate(slots)}\n",
        "\n",
        "    df = df.sort_values(by=[\"Day\", \"StartTime\"],\n",
        "                        key=lambda c: c.map(lambda x: days.index(x) if c.name == \"Day\" else slot_index.get(x, 99)))\n",
        "\n",
        "    # Build timetable dictionary\n",
        "    table = defaultdict(lambda: defaultdict(tuple))\n",
        "    merge_info = {}\n",
        "\n",
        "    for _, row in df.iterrows():\n",
        "        c_id, c_name = row[\"CourseID\"], course_names.get(row[\"CourseID\"], \"\")\n",
        "        label = re.sub(r\"([A-Z]+)(\\d+)\", r\"\\1 \\2\", c_id)\n",
        "        text = f\"{label} {c_name}\\n{row['InstructorName']}\\n{row['Type'][:3].upper()} {row['Room']}\"\n",
        "        color = color_map[c_id]\n",
        "        relevant = [s for s in row[\"Sections\"].split(\", \") if s in full_list]\n",
        "\n",
        "        if row[\"Type\"].lower() == \"lecture\":\n",
        "            merge_info[(row[\"Day\"], row[\"StartTime\"], text)] = ([r.split(\"-\")[-1] for r in relevant], color)\n",
        "        else:\n",
        "            for sec in relevant:\n",
        "                table[(row[\"Day\"], row[\"StartTime\"])][sec.split(\"-\")[-1]] = (text, color)\n",
        "\n",
        "    # Add merged\n",
        "    for (day, time, text), (secs, col) in merge_info.items():\n",
        "        for s in secs:\n",
        "            table[(day, time)][s] = (text, col)\n",
        "\n",
        "    # Build Excel\n",
        "    wb = Workbook()\n",
        "    ws = wb.active\n",
        "    ws.title = title.replace(\" \", \"_\")\n",
        "\n",
        "    ws[\"A1\"] = f\"{title} Timetable\"\n",
        "    ws.merge_cells(start_row=1, start_column=1, end_row=1, end_column=len(full_list) + 2)\n",
        "    ws[\"A1\"].alignment = Alignment(horizontal=\"center\")\n",
        "    ws[\"A1\"].font = Font(size=14, bold=True)\n",
        "\n",
        "    ws[\"A2\"], ws[\"B2\"] = \"Day\", \"Time\"\n",
        "    col = 3\n",
        "    for header, count in header_map.items():\n",
        "        ws.cell(row=2, column=col, value=f\"CSIT {header}\")\n",
        "        ws.merge_cells(start_row=2, start_column=col, end_row=2, end_column=col + count - 1)\n",
        "        for j in range(count):\n",
        "            ws.cell(row=3, column=col + j, value=f\"s{j+1}\").font = Font(bold=True)\n",
        "            ws.cell(row=3, column=col + j).alignment = Alignment(horizontal=\"center\")\n",
        "        col += count\n",
        "\n",
        "    # Fill cells\n",
        "    row = 4\n",
        "    for day in days:\n",
        "        start_row = row\n",
        "        for idx, slot in enumerate(slots):\n",
        "            ws.cell(row=row, column=1, value=day)\n",
        "            ws.cell(row=row, column=2, value=ranges[idx])\n",
        "            c = 3\n",
        "            for sec in full_list:\n",
        "                s_key = sec.split(\"-\")[-1]\n",
        "                content, bg = table[(day, slot)].get(s_key, (\"\", \"FFFFFF\"))\n",
        "                cell = ws.cell(row=row, column=c, value=content)\n",
        "                cell.alignment = Alignment(horizontal=\"center\", vertical=\"center\", wrap_text=True)\n",
        "                cell.fill = PatternFill(start_color=bg, end_color=bg, fill_type=\"solid\")\n",
        "                c += 1\n",
        "            row += 1\n",
        "        ws.merge_cells(start_row=start_row, start_column=1, end_row=row-1, end_column=1)\n",
        "        ws.cell(row=start_row, column=1).alignment = Alignment(vertical=\"center\", horizontal=\"center\")\n",
        "\n",
        "    # Formatting\n",
        "    ws.column_dimensions[\"A\"].width = 15\n",
        "    ws.column_dimensions[\"B\"].width = 16\n",
        "    for i in range(3, len(full_list) + 3):\n",
        "        ws.column_dimensions[get_column_letter(i)].width = 22\n",
        "\n",
        "    filename = f\"timetable_{level_num}{'_' + spec if spec else ''}.xlsx\"\n",
        "    wb.save(filename)\n",
        "    print(f\"✅ Excel timetable created: {filename}\")"
      ],
      "metadata": {
        "id": "-xdEn-LY3rAb"
      },
      "execution_count": 11,
      "outputs": []
    },
    {
      "cell_type": "code",
      "source": [
        "#Main Execution (Generate ALL)\n",
        "def run_generator():\n",
        "    try:\n",
        "        timetable, courses, sections_map = load_inputs()\n",
        "    except Exception as e:\n",
        "        print(\"❌ Error loading files:\", e)\n",
        "        return\n",
        "\n",
        "    print(\"Generating all timetables automatically...\\n\")\n",
        "\n",
        "    for lvl, val in sections_map[\"CSIT\"].items():\n",
        "        if isinstance(val, list):\n",
        "            print(f\"🗂 Generating timetable for Level {lvl}...\")\n",
        "            export_excel(timetable, lvl, None, val, sections_map, courses)\n",
        "        else:\n",
        "            for spec, sec_def in val.items():\n",
        "                print(f\"🗂 Generating timetable for Level {lvl}-{spec}...\")\n",
        "                export_excel(timetable, lvl, spec, sec_def, sections_map, courses)\n",
        "\n",
        "    print(\"\\n✅ All Excel timetables generated successfully!\")\n",
        "\n",
        "\n",
        "# Run the generator\n",
        "run_generator()"
      ],
      "metadata": {
        "colab": {
          "base_uri": "https://localhost:8080/"
        },
        "id": "7AHRXv1q36bS",
        "outputId": "765e5c0d-5098-4db4-c00e-e5c2abcaeea9"
      },
      "execution_count": 12,
      "outputs": [
        {
          "output_type": "stream",
          "name": "stdout",
          "text": [
            "Generating all timetables automatically...\n",
            "\n",
            "🗂 Generating timetable for Level 1...\n",
            "✅ Excel timetable created: timetable_1.xlsx\n",
            "🗂 Generating timetable for Level 2...\n",
            "✅ Excel timetable created: timetable_2.xlsx\n",
            "🗂 Generating timetable for Level 3-AID...\n",
            "✅ Excel timetable created: timetable_3_AID.xlsx\n",
            "🗂 Generating timetable for Level 3-CNC...\n",
            "✅ Excel timetable created: timetable_3_CNC.xlsx\n",
            "🗂 Generating timetable for Level 3-CSC...\n",
            "✅ Excel timetable created: timetable_3_CSC.xlsx\n",
            "🗂 Generating timetable for Level 3-BIF...\n",
            "✅ Excel timetable created: timetable_3_BIF.xlsx\n",
            "🗂 Generating timetable for Level 4-AID...\n",
            "✅ Excel timetable created: timetable_4_AID.xlsx\n",
            "🗂 Generating timetable for Level 4-CNC...\n",
            "✅ Excel timetable created: timetable_4_CNC.xlsx\n",
            "🗂 Generating timetable for Level 4-CSC...\n",
            "✅ Excel timetable created: timetable_4_CSC.xlsx\n",
            "🗂 Generating timetable for Level 4-BIF...\n",
            "✅ Excel timetable created: timetable_4_BIF.xlsx\n",
            "\n",
            "✅ All Excel timetables generated successfully!\n"
          ]
        }
      ]
    }
  ]
}